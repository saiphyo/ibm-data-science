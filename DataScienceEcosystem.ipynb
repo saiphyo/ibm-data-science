{
 "cells": [
  {
   "cell_type": "markdown",
   "id": "3ff0eed4-d196-43f9-9187-8dcd92aabb5d",
   "metadata": {},
   "source": [
    "# H1 Data Science Tools and Ecosystem"
   ]
  },
  {
   "cell_type": "markdown",
   "id": "96a24c24-3613-4432-9f9f-ce25817c0a06",
   "metadata": {},
   "source": [
    "### In this notebook, Data Science Tools and Ecosystem are summarized."
   ]
  },
  {
   "cell_type": "markdown",
   "id": "aad4bf9f-cf1f-40fd-b09a-9ee5473f4976",
   "metadata": {},
   "source": [
    "**Objectives:**\n",
    "\n",
    "- List popular languages for Data Science.\n",
    "- Explore common libraries used in Data Science.\n",
    "- Understand the basics of converting units (e.g., minutes to hours) in Python.\n",
    "- Learn how to create and format Markdown cells in Jupyter Notebook."
   ]
  },
  {
   "cell_type": "markdown",
   "id": "c89d7907-51d2-4561-9a2e-70ec5a6f574b",
   "metadata": {},
   "source": [
    "#### Some of the popular languages that Data Scientists use are:"
   ]
  },
  {
   "cell_type": "markdown",
   "id": "b5640143-f564-417d-8d70-12a1687e9221",
   "metadata": {},
   "source": [
    "1. Python\n",
    "2. R\n",
    "3. Scala"
   ]
  },
  {
   "cell_type": "markdown",
   "id": "f36bb561-b059-4bef-85ec-b051d4b71284",
   "metadata": {},
   "source": [
    "#### Some of the commonly used libraries used by Data Scientists include:"
   ]
  },
  {
   "cell_type": "markdown",
   "id": "5f174ed5-8caa-4ba9-b95c-b082c8442d54",
   "metadata": {},
   "source": [
    "1. NumPy\n",
    "2. pandas\n",
    "3. matplotlib\n",
    "4. Seaborn\n",
    "5. scikit-learn\n",
    "6. TensorFlow"
   ]
  },
  {
   "cell_type": "markdown",
   "id": "b5b96986-f4d8-4d90-9e65-f558fdbabbab",
   "metadata": {},
   "source": [
    "| Data Science Tools |\n",
    "|:-------------------|\n",
    "| 1. Jupyter Notebook|\n",
    "| 2. VS Code         |\n",
    "| 3. RStudio         |"
   ]
  },
  {
   "cell_type": "markdown",
   "id": "87573448-f915-4f04-98ce-491507d59f4b",
   "metadata": {},
   "source": [
    "### Below are a few examples of evaluating arithmetic expressions in Python"
   ]
  },
  {
   "cell_type": "code",
   "execution_count": 1,
   "id": "1dd542e8-b69e-4bcd-b40f-6fd31bca75ec",
   "metadata": {
    "tags": []
   },
   "outputs": [
    {
     "data": {
      "text/plain": [
       "17"
      ]
     },
     "execution_count": 1,
     "metadata": {},
     "output_type": "execute_result"
    }
   ],
   "source": [
    "# This a simple arithmetic expression to mutiply then add integers\n",
    "(3*4)+5"
   ]
  },
  {
   "cell_type": "code",
   "execution_count": 3,
   "id": "e05c3bcc-9031-41b1-ab5f-22074e03042a",
   "metadata": {
    "tags": []
   },
   "outputs": [
    {
     "data": {
      "text/plain": [
       "3.3333333333333335"
      ]
     },
     "execution_count": 3,
     "metadata": {},
     "output_type": "execute_result"
    }
   ],
   "source": [
    "# This will convert 200 minutes to hours by diving by 60\n",
    "minutes = 200\n",
    "hours = minutes / 60\n",
    "hours"
   ]
  },
  {
   "cell_type": "markdown",
   "id": "f0538f09-22a4-4edc-8f48-2a72c680c3d4",
   "metadata": {},
   "source": [
    "## Author\n",
    "\n",
    "Phyo Naung Kham\n"
   ]
  },
  {
   "cell_type": "code",
   "execution_count": null,
   "id": "4c732977-2bbc-4f2c-8300-4ba7a2459e8e",
   "metadata": {},
   "outputs": [],
   "source": []
  }
 ],
 "metadata": {
  "kernelspec": {
   "display_name": "Python 3 (ipykernel)",
   "language": "python",
   "name": "python3"
  },
  "language_info": {
   "codemirror_mode": {
    "name": "ipython",
    "version": 3
   },
   "file_extension": ".py",
   "mimetype": "text/x-python",
   "name": "python",
   "nbconvert_exporter": "python",
   "pygments_lexer": "ipython3",
   "version": "3.11.4"
  }
 },
 "nbformat": 4,
 "nbformat_minor": 5
}
